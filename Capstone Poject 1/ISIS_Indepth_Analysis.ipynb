{
 "cells": [
  {
   "cell_type": "code",
   "execution_count": 110,
   "metadata": {},
   "outputs": [],
   "source": [
    "import pandas as pd\n",
    "import numpy as np\n",
    "import sklearn\n",
    "from sklearn.naive_bayes import MultinomialNB\n",
    "from sklearn.model_selection import KFold\n",
    "from sklearn.model_selection import  cross_val_score\n",
    "from sklearn.feature_extraction.text import CountVectorizer\n",
    "import nltk \n",
    "from sklearn.metrics import roc_curve\n",
    "from sklearn.metrics import confusion_matrix\n",
    "import fasttext\n",
    "from sklearn.model_selection import cross_val_predict\n",
    "import pickle\n",
    "import multiprocessing\n",
    "from gensim.models import Word2Vec"
   ]
  },
  {
   "cell_type": "code",
   "execution_count": 111,
   "metadata": {},
   "outputs": [],
   "source": [
    "#loading the csv file\n",
    "\n",
    "df_tweets = pd.read_csv(\"tweet_preprocessed.csv\", parse_dates=True,na_values=' ',encoding=\"ISO-8859-1\")\n",
    "df_tweets.set_index(['time','username'], inplace = True)"
   ]
  },
  {
   "cell_type": "code",
   "execution_count": 112,
   "metadata": {},
   "outputs": [],
   "source": [
    "output_resources = pickle.load(open( \"resources_pickled.p\", \"rb\" ))\n",
    "tweet_nostopwords= output_resources['tweet_nostopwords']\n",
    "tweet_tokens_joined = output_resources['tweet_tokens_joined']"
   ]
  },
  {
   "cell_type": "code",
   "execution_count": 113,
   "metadata": {},
   "outputs": [
    {
     "data": {
      "text/plain": [
       "[('entered', 0.9975644946098328),\n",
       " ('leaving', 0.9974784255027771),\n",
       " ('officials', 0.9973977208137512),\n",
       " ('trapped', 0.9973905086517334),\n",
       " ('airstrike', 0.9973317980766296),\n",
       " ('fleeing', 0.9972130060195923),\n",
       " ('anbar', 0.9972053170204163),\n",
       " ('province', 0.997189462184906),\n",
       " ('neighbourhood', 0.9971358180046082),\n",
       " ('confirmed', 0.9970868825912476)]"
      ]
     },
     "execution_count": 113,
     "metadata": {},
     "output_type": "execute_result"
    }
   ],
   "source": [
    "# using word2vec model to find similar words\n",
    "# attempt to build neural network model\n",
    "\n",
    "w2v_model = Word2Vec(min_count=5,\n",
    "                     window=4,\n",
    "                     size=100,\n",
    "                     sample=6e-5, \n",
    "                     alpha=0.03, \n",
    "                     min_alpha=0.0007, \n",
    "                     negative=20)\n",
    "w2v_model.build_vocab(tweet_nostopwords, progress_per=10000)\n",
    "w2v_model.train(tweet_nostopwords, total_examples=w2v_model.corpus_count, epochs=30, report_delay=1)\n",
    "w2v_model.init_sims(replace=True)\n",
    "w2v_model.wv.most_similar(topn=10,positive='militant')"
   ]
  },
  {
   "cell_type": "code",
   "execution_count": 114,
   "metadata": {},
   "outputs": [
    {
     "data": {
      "text/plain": [
       "[(0.8713728785514832, '\"militant'),\n",
       " (0.8628817796707153, 'militant.'),\n",
       " (0.8179283142089844, 'eyeonmilitant'),\n",
       " (0.7054753303527832, 'militant\"'),\n",
       " (0.6604416966438293, '155mm'),\n",
       " (0.6502629518508911, 'saraya'),\n",
       " (0.64931321144104, 'ingushetia'),\n",
       " (0.6468783020973206, 'enters'),\n",
       " (0.6227799654006958, 'yussuf'),\n",
       " (0.6176290512084961, 'dautant')]"
      ]
     },
     "execution_count": 114,
     "metadata": {},
     "output_type": "execute_result"
    }
   ],
   "source": [
    "# using fasttext model to find similar words\n",
    "# attempt to build neural network model\n",
    "\n",
    "model = fasttext.train_unsupervised('tweets_clean.txt')\n",
    "model.get_nearest_neighbors('militant')"
   ]
  },
  {
   "cell_type": "code",
   "execution_count": 115,
   "metadata": {},
   "outputs": [],
   "source": [
    "#Building a Naive bayes classification model using nltk library\n",
    "\n",
    "from sklearn.model_selection import train_test_split\n",
    "X=df_tweets[\"tweet_nostopwords\"]\n",
    "y=df_tweets[\"label\"]\n",
    "X_train, X_test, y_train, y_test = train_test_split(X, y, test_size = .2, random_state=42, stratify=y)\n",
    "\n",
    "X_train = X_train.tolist() \n",
    "X_test = X_test.tolist() \n",
    "y_train = y_train.tolist() \n",
    "y_test = y_test.tolist() "
   ]
  },
  {
   "cell_type": "code",
   "execution_count": 116,
   "metadata": {},
   "outputs": [],
   "source": [
    "def processed_tweets(X,y):\n",
    "    tweets=[]\n",
    "    for tweet, label in zip( X,y):\n",
    "        tweets.append((tweet,label))\n",
    "    return tweets"
   ]
  },
  {
   "cell_type": "code",
   "execution_count": 117,
   "metadata": {},
   "outputs": [],
   "source": [
    "def buildVocabulary(train_data):\n",
    "    all_words = []\n",
    "    \n",
    "    for (words, sentiment) in train_data:\n",
    "        all_words.extend(words)\n",
    "    wordlist = nltk.FreqDist(all_words)\n",
    "    word_features = wordlist.keys()\n",
    "    \n",
    "    return word_features"
   ]
  },
  {
   "cell_type": "code",
   "execution_count": 118,
   "metadata": {},
   "outputs": [],
   "source": [
    "def extract_features(tweet):\n",
    "    tweet_words = set(tweet)\n",
    "    features = {}\n",
    "    for word in word_features:        \n",
    "        features['contains(%s)' % word] = (word in tweet_words)\n",
    "    return features \n"
   ]
  },
  {
   "cell_type": "code",
   "execution_count": 119,
   "metadata": {},
   "outputs": [],
   "source": [
    "word_features = buildVocabulary(processed_tweets(X_train, y_train))\n",
    "trainingFeatures = nltk.classify.apply_features(extract_features, processed_tweets(X_train, y_train))"
   ]
  },
  {
   "cell_type": "code",
   "execution_count": 120,
   "metadata": {},
   "outputs": [],
   "source": [
    "NBayesClassifier = nltk.NaiveBayesClassifier.train(trainingFeatures)"
   ]
  },
  {
   "cell_type": "code",
   "execution_count": 121,
   "metadata": {},
   "outputs": [],
   "source": [
    "pickle.dump( NBayesClassifier , open( \"tweet_pickled.p\", \"wb\" ) )"
   ]
  },
  {
   "cell_type": "code",
   "execution_count": 122,
   "metadata": {},
   "outputs": [],
   "source": [
    "NBayesClassifier = pickle.load(open( \"tweet_pickled.p\", \"rb\" ))"
   ]
  },
  {
   "cell_type": "code",
   "execution_count": 123,
   "metadata": {},
   "outputs": [],
   "source": [
    "NBResultLabels = [NBayesClassifier.classify(extract_features(tweet[0])) for tweet in processed_tweets(X_test,y_test)]"
   ]
  },
  {
   "cell_type": "code",
   "execution_count": 124,
   "metadata": {},
   "outputs": [
    {
     "name": "stdout",
     "output_type": "stream",
     "text": [
      "Accuracy: 0.7093624353819644\n",
      "F1 score: 0.5541850220264317\n",
      "Precision: 0.7075365579302587\n",
      "roc-auc score: 0.6658582289527314\n",
      "Recall 0.4554670528602462\n",
      "Confusion_matrix: \n",
      " [[1841  260]\n",
      " [ 752  629]]\n"
     ]
    }
   ],
   "source": [
    "#checking the model performance\n",
    "\n",
    "def model_performance():      \n",
    "    print(\"Accuracy:\",sklearn.metrics.accuracy_score(y_test, NBResultLabels))    \n",
    "    print(\"F1 score:\",sklearn.metrics.f1_score(y_test, NBResultLabels))\n",
    "    print(\"Precision:\",sklearn.metrics.precision_score(y_test, NBResultLabels))     \n",
    "    print(\"roc-auc score:\",sklearn.metrics.roc_auc_score(y_test, NBResultLabels))\n",
    "    print(\"Recall\",sklearn.metrics.recall_score(y_test, NBResultLabels))\n",
    "    print(\"Confusion_matrix: \\n\",sklearn.metrics.confusion_matrix(y_test, NBResultLabels))\n",
    "model_performance()"
   ]
  },
  {
   "cell_type": "code",
   "execution_count": 125,
   "metadata": {},
   "outputs": [],
   "source": [
    "vectorizer = CountVectorizer()\n",
    "df_tweets.tweet_tokens_joined\n",
    "X = vectorizer.fit_transform(tweet_tokens_joined)\n",
    "\n",
    "#X = X.tocsc()  \n",
    "#y = tweet.label.values.astype(np.int)"
   ]
  },
  {
   "cell_type": "code",
   "execution_count": 126,
   "metadata": {},
   "outputs": [],
   "source": [
    "#Building a Naive bayes clssification model using scikit learn as nltk doesn't  support cross validation\n",
    "\n",
    "def make_xy(tweet, vectorizer=None):    \n",
    "    if vectorizer is None:\n",
    "        vectorizer = CountVectorizer()\n",
    "    X = vectorizer.fit_transform(tweet_tokens_joined)\n",
    "    X = X.tocsc()  \n",
    "    y = tweet.label.values.astype(np.int)\n",
    "    return X,y\n",
    "X,y= make_xy(df_tweets)"
   ]
  },
  {
   "cell_type": "code",
   "execution_count": 127,
   "metadata": {},
   "outputs": [
    {
     "name": "stdout",
     "output_type": "stream",
     "text": [
      "Accuracy: [0.79063756 0.79293509 0.80097645 0.78144744 0.78977599]\n",
      "F1 score: [0.70473876 0.70365804 0.72313224 0.69523428 0.7182448 ]\n",
      "roc-auc score: [0.89980203 0.89810494 0.90790626 0.89300481 0.895485  ]\n",
      "precision: [0.79963235 0.79259259 0.78832753 0.79052823 0.78867287]\n",
      "recall: [0.62997828 0.63266814 0.66789668 0.62044317 0.65936396]\n",
      "Confusion Matrix:\n",
      " [[9342 1165]\n",
      " [2471 4432]]\n"
     ]
    }
   ],
   "source": [
    "#Model performnce after cross validation\n",
    "\n",
    "def model_performance_crossval():\n",
    "    clf = MultinomialNB(alpha=.1)\n",
    "    k_fold = KFold( n_splits=5, shuffle=True, random_state=0)\n",
    "    print(\"Accuracy:\", cross_val_score(clf, X, y, cv=k_fold, n_jobs=1,scoring='accuracy'))\n",
    "    print(\"F1 score:\",cross_val_score(clf, X, y, n_jobs=1, cv=k_fold,scoring='f1'))\n",
    "    print(\"roc-auc score:\",cross_val_score(clf, X, y, cv=k_fold, n_jobs=1,scoring='roc_auc'))\n",
    "    print(\"precision:\",cross_val_score(clf, X, y, cv=k_fold, n_jobs=1,scoring='precision'))\n",
    "    print(\"recall:\",cross_val_score(clf, X, y, cv=k_fold, n_jobs=1,scoring='recall'))\n",
    "    y_pred = cross_val_predict(clf, X, y, cv=k_fold)\n",
    "    conf_mat = confusion_matrix(y, y_pred)\n",
    "    print(\"Confusion Matrix:\\n\", conf_mat)\n",
    "model_performance_crossval()"
   ]
  },
  {
   "cell_type": "code",
   "execution_count": 128,
   "metadata": {},
   "outputs": [],
   "source": [
    "#Removing empty rows and rows with a single word \n",
    "def emptyrows_remove(tweet, nostopwords):    \n",
    "    min_words = 1\n",
    "    tweet = tweet[nostopwords.apply(lambda x: True  if len(x)>min_words else False)]      \n",
    "    return tweet\n",
    "\n",
    "df_tweets = emptyrows_remove(df_tweets, df_tweets['tweet_nostopwords'])"
   ]
  },
  {
   "cell_type": "code",
   "execution_count": 129,
   "metadata": {},
   "outputs": [
    {
     "name": "stdout",
     "output_type": "stream",
     "text": [
      "Accuracy: [0.79063756 0.79293509 0.80097645 0.78144744 0.78977599]\n",
      "F1 score: [0.70473876 0.70365804 0.72313224 0.69523428 0.7182448 ]\n",
      "roc-auc score: [0.89980203 0.89810494 0.90790626 0.89300481 0.895485  ]\n",
      "precision: [0.79963235 0.79259259 0.78832753 0.79052823 0.78867287]\n",
      "recall: [0.62997828 0.63266814 0.66789668 0.62044317 0.65936396]\n",
      "Confusion Matrix:\n",
      " [[9342 1165]\n",
      " [2471 4432]]\n"
     ]
    }
   ],
   "source": [
    "# Checking performance after removing empty rows and rows with a single word \n",
    "\n",
    "X, y = make_xy(df_tweets)\n",
    "model_performance_crossval()"
   ]
  },
  {
   "cell_type": "code",
   "execution_count": 130,
   "metadata": {},
   "outputs": [],
   "source": [
    "\n",
    "df = pd.DataFrame(y,columns=['Output'])\n",
    "df.to_excel(excel_writer = \"test.xlsx\",encoding=\"ISO-8859-1\")\n"
   ]
  }
 ],
 "metadata": {
  "kernelspec": {
   "display_name": "Python 3",
   "language": "python",
   "name": "python3"
  },
  "language_info": {
   "codemirror_mode": {
    "name": "ipython",
    "version": 3
   },
   "file_extension": ".py",
   "mimetype": "text/x-python",
   "name": "python",
   "nbconvert_exporter": "python",
   "pygments_lexer": "ipython3",
   "version": "3.7.6"
  }
 },
 "nbformat": 4,
 "nbformat_minor": 2
}
