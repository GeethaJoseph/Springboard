{
 "cells": [
  {
   "cell_type": "markdown",
   "metadata": {},
   "source": [
    "The neighboring cities of Gotham and Metropolis have complementary circadian rhythms: on weekdays, Ultimate Gotham is most\n",
    "active at night, and Ultimate Metropolis is most active during the day. On weekends, there is reasonable activity in both cities.\n",
    "However, a toll bridge, with a two way toll, between the two cities causes driver partners to tend to be exclusive to each city.\n",
    "The Ultimate managers of city operations for the two cities have proposed an experiment to encourage driver partners to be \n",
    "available in both cities, by reimbursing all toll costs."
   ]
  },
  {
   "cell_type": "markdown",
   "metadata": {},
   "source": [
    "#### What would you choose as the key measure of success of this experiment in encouraging driver partners to serve both cities, and why would you choose this metric?"
   ]
  },
  {
   "cell_type": "markdown",
   "metadata": {},
   "source": [
    "Proportion of drivers not from their original city. By checking this parameter before and after the experiment, we can say that whether the experiment was a success"
   ]
  },
  {
   "cell_type": "markdown",
   "metadata": {},
   "source": [
    "#### Describe a practical experiment you would design to compare the effectiveness of the proposed change in relation to the key measure of success. Please provide details on:\n"
   ]
  },
  {
   "cell_type": "markdown",
   "metadata": {},
   "source": [
    "#### a. how you will implement the experiment"
   ]
  },
  {
   "cell_type": "markdown",
   "metadata": {},
   "source": [
    "Measure the proportion of drivers not from their original city for  every day in a month before the experiment and for  every day in a month after the experiment."
   ]
  },
  {
   "cell_type": "markdown",
   "metadata": {},
   "source": [
    "#### b. what statistical test(s) you will conduct to verify the significance of the observation"
   ]
  },
  {
   "cell_type": "markdown",
   "metadata": {},
   "source": [
    "Draw permutation samples and conduct a one tail test with 95% confidence interval, with the Null Hypothesis: There wasn't\n",
    "any significant difference in Proportion of drivers not from their original city before and after the experiment"
   ]
  },
  {
   "cell_type": "markdown",
   "metadata": {},
   "source": [
    "#### c. how you would interpret the results and provide recommendations to the city operations team along with any caveats."
   ]
  },
  {
   "cell_type": "markdown",
   "metadata": {},
   "source": [
    "If p value is below 5%, we can reject the Null hypothesis and conclude that the experiment was sueccssful"
   ]
  }
 ],
 "metadata": {
  "kernelspec": {
   "display_name": "Python 3",
   "language": "python",
   "name": "python3"
  },
  "language_info": {
   "codemirror_mode": {
    "name": "ipython",
    "version": 3
   },
   "file_extension": ".py",
   "mimetype": "text/x-python",
   "name": "python",
   "nbconvert_exporter": "python",
   "pygments_lexer": "ipython3",
   "version": "3.7.6"
  }
 },
 "nbformat": 4,
 "nbformat_minor": 4
}
